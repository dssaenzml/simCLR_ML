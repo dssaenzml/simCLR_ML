{
 "cells": [
  {
   "cell_type": "markdown",
   "metadata": {},
   "source": [
    "# SimCLR with PL + Downstream\n",
    "\n",
    "List of full videos is here:    \n",
    "\n",
    "https://www.youtube.com/playlist?list=PLaMu-SDt_RB4k8VXiB3hOdsn0Y3GoXo1k\n",
    "\n",
    "Pretrained simCLR2: https://console.cloud.google.com/storage/browser/simclr-checkpoints/simclrv2/pretrained?pageState=(%22StorageObjectListTable%22:(%22f%22:%22%255B%255D%22))&prefix=&forceOnObjectsSortingFiltering=false"
   ]
  },
  {
   "cell_type": "code",
   "execution_count": null,
   "metadata": {},
   "outputs": [],
   "source": [
    "%%capture\n",
    "! pip install pytorch-lightning-bolts\n",
    "! pip install pytorch-lightning\n",
    "! pip install wandb\n",
    "! pip install lightning-flash -U\n",
    "! pip install Pillow==4.0.0\n",
    "! pip install PIL\n",
    "! pip install image\n",
    "! pip install IPython ipykernel --update\n",
    "# %reload_ext autoreload\n",
    "# %autoreload\n",
    "# !pip install transformers~=2.11.0"
   ]
  },
  {
   "cell_type": "markdown",
   "metadata": {},
   "source": [
    "## Importing libraries and Dataset"
   ]
  },
  {
   "cell_type": "code",
   "execution_count": 1,
   "metadata": {},
   "outputs": [
    {
     "name": "stdout",
     "output_type": "stream",
     "text": [
      "cuda:0\n"
     ]
    }
   ],
   "source": [
    "import torch\n",
    "import pytorch_lightning as pl\n",
    "from pl_bolts.models.self_supervised import SimCLR\n",
    "from pl_bolts.callbacks.ssl_online import SSLOnlineEvaluator\n",
    "from pl_bolts.models.self_supervised.simclr.transforms import (\n",
    "    SimCLREvalDataTransform, SimCLRTrainDataTransform)\n",
    "\n",
    "from pytorch_lightning.loggers import WandbLogger\n",
    "\n",
    "#Lightning Flash module\n",
    "# from flash import Trainer\n",
    "from flash import download_data\n",
    "# from flash.vision import ImageClassificationData, ImageClassifier\n",
    "\n",
    "import zipfile\n",
    "import os\n",
    "import pandas as pd\n",
    "import numpy as np\n",
    "import torch\n",
    "import torchvision\n",
    "\n",
    "device = torch.device(\"cuda:0\" if torch.cuda.is_available() else \"cpu\")\n",
    "print(device)"
   ]
  },
  {
   "cell_type": "code",
   "execution_count": null,
   "metadata": {},
   "outputs": [],
   "source": [
    "#load data with Flash\n",
    "\n",
    "download_data(\"https://ml701.s3.me-south-1.amazonaws.com/OCT2017_M.zip\", \"data/\")"
   ]
  },
  {
   "cell_type": "code",
   "execution_count": 30,
   "metadata": {},
   "outputs": [
    {
     "name": "stdout",
     "output_type": "stream",
     "text": [
      "total train data size: (5200, 2), sample train data size: (3120, 2)\n"
     ]
    }
   ],
   "source": [
    "#explore csv\n",
    "\n",
    "'''\n",
    "0: NORMAL\n",
    "1: CNV\n",
    "2: DME\n",
    "3: DRUSEN\n",
    "'''\n",
    "random_state = 6\n",
    "num_of_classes = 4\n",
    "frac_train_images = .6\n",
    "root_dir = 'data/OCT2017_M'\n",
    "total_train = pd.read_csv(f\"{root_dir}/train.csv\")\n",
    "data = total_train.sample(frac=frac_train_images, random_state=random_state)\n",
    "print(f\"total train data size: {total_train.shape}, sample train data size: {data.shape}\")"
   ]
  },
  {
   "cell_type": "markdown",
   "metadata": {},
   "source": [
    "### Defining Dataloader and Transformer"
   ]
  },
  {
   "cell_type": "code",
   "execution_count": 24,
   "metadata": {},
   "outputs": [],
   "source": [
    "#dataset\n",
    "from  pl_bolts.datamodules.async_dataloader import AsynchronousLoader\n",
    "from torch.utils.data import Dataset, DataLoader\n",
    "from PIL import Image\n",
    "\n",
    "class OCTDataset(Dataset):\n",
    "    \"\"\" OCT Dataset \"\"\"\n",
    "    \n",
    "    def __init__(self, root_dir, frac_train_images=1, transform=None, stage=False, random_state=1):\n",
    "        if stage: \n",
    "            csv_output = pd.read_csv(os.path.join(root_dir, \"test.csv\"))\n",
    "            self.images_dir = os.path.join(root_dir, \"test\")\n",
    "        else:\n",
    "            total_csv_output = pd.read_csv(os.path.join(root_dir, \"train.csv\"))\n",
    "            csv_output = total_csv_output.sample(frac=frac_train_images, \n",
    "                                                 random_state=random_state)\n",
    "            self.images_dir = os.path.join(root_dir, \"train\")\n",
    "\n",
    "        self.image_urls = np.asarray(csv_output[\"image_id\"])\n",
    "        self.labels = np.asarray(csv_output[\"label\"])\n",
    "        self.transform = transform\n",
    "        \n",
    "    def __len__(self):\n",
    "        return len(self.image_urls)\n",
    "    \n",
    "    def __getitem__(self, idx):\n",
    "        # Get and load image\n",
    "        image_path = os.path.join(self.images_dir, self.image_urls[idx])\n",
    "        image = Image.open(image_path)\n",
    "        # Perform transforms if any\n",
    "        if self.transform:\n",
    "            image = self.transform(image)\n",
    "        # Get label\n",
    "        label = self.labels[idx]   \n",
    "        return image, label"
   ]
  },
  {
   "cell_type": "code",
   "execution_count": 25,
   "metadata": {},
   "outputs": [],
   "source": [
    "#datamodule\n",
    "from torch.utils.data import random_split\n",
    "from torch.utils.data import RandomSampler\n",
    "import math\n",
    "\n",
    "class OCTDataModule(pl.LightningDataModule):\n",
    "    \"\"\" OCT DataModule for Lightning \"\"\"\n",
    "    def __init__(self, root_dir, frac_train_images=1, transform=None, batch_size=32, random_state=1):\n",
    "        super().__init__()\n",
    "        self.batch_size = batch_size\n",
    "        self.root_dir = root_dir\n",
    "        self.transform = transform\n",
    "        self.frac_train_images = frac_train_images\n",
    "        self.random_state = random_state\n",
    "        \n",
    "    def setup(self, stage=None):\n",
    "        oct_full = OCTDataset(root_dir=self.root_dir, transform=self.transform, \n",
    "                              frac_train_images=self.frac_train_images, \n",
    "                              random_state=self.random_state)\n",
    "        train_data_len = math.floor(len(oct_full) * 0.7)\n",
    "        val_data_len = len(oct_full) - train_data_len\n",
    "        # Create train and validation datasets\n",
    "        self.oct_train, self.oct_val = random_split(oct_full, [train_data_len, val_data_len], \n",
    "                                                    generator=torch.Generator().manual_seed(random_state))\n",
    "        \n",
    "        # Create test dataset\n",
    "        self.oct_test = OCTDataset(root_dir=self.root_dir, transform=self.transform, stage=True)\n",
    "\n",
    "    def train_dataloader(self):\n",
    "        return DataLoader(self.oct_train, batch_size=self.batch_size,\n",
    "                          num_workers=32)\n",
    "    \n",
    "    def val_dataloader(self):\n",
    "        return DataLoader(self.oct_val, batch_size=self.batch_size, \n",
    "                          num_workers=32)\n",
    "    \n",
    "    def test_dataloader(self):\n",
    "        return DataLoader(self.oct_test, batch_size=self.batch_size, \n",
    "                          num_workers=32)"
   ]
  },
  {
   "cell_type": "code",
   "execution_count": 26,
   "metadata": {},
   "outputs": [
    {
     "data": {
      "image/png": "[encoded data removed]",
      "text/plain": [
       "<PIL.Image.Image image mode=L size=244x244 at 0x7FBA5D735C70>"
      ]
     },
     "execution_count": 26,
     "metadata": {},
     "output_type": "execute_result"
    }
   ],
   "source": [
    "#transforms on OCT data\n",
    "import torchvision.transforms as transforms\n",
    "from pl_bolts.models.self_supervised.simclr.transforms import SimCLRTrainDataTransform\n",
    "import torchvision.transforms.functional as tvf\n",
    "\n",
    "transform = transforms.Compose([\n",
    "    transforms.Grayscale(num_output_channels=3),\n",
    "    transforms.Resize((244, 244)),\n",
    "    # transforms.RandomCrop(224),\n",
    "    transforms.ToTensor(),\n",
    "    transforms.Normalize((0.485, 0.456, 0.406), (0.229, 0.224, 0.225)) # ImageNet Normalization\n",
    "    ])\n",
    "\n",
    "random_state = 6\n",
    "num_of_classes = 4\n",
    "frac_train_images = .6\n",
    "root_dir = 'data/OCT2017_M'\n",
    "oct_data = OCTDataModule(root_dir=root_dir, transform=transform, batch_size=64, \n",
    "                         frac_train_images=frac_train_images, random_state=random_state)\n",
    "oct_data.setup()\n",
    "\n",
    "ds_train = oct_data.oct_train\n",
    "# ds_train[img_index][][channel]\n",
    "tvf.to_pil_image(ds_train[6][0][0])"
   ]
  },
  {
   "cell_type": "code",
   "execution_count": 27,
   "metadata": {},
   "outputs": [
    {
     "data": {
      "image/png": "[encoded data removed]",
      "text/plain": [
       "<PIL.Image.Image image mode=L size=244x244 at 0x7FBA78270E80>"
      ]
     },
     "execution_count": 27,
     "metadata": {},
     "output_type": "execute_result"
    }
   ],
   "source": [
    "ds_test = oct_data.oct_test\n",
    "# ds_test[img_index][][channel]\n",
    "tvf.to_pil_image(ds_test[6][0][0])"
   ]
  },
  {
   "cell_type": "markdown",
   "metadata": {},
   "source": [
    "## Fine-tuning & Classifier"
   ]
  },
  {
   "cell_type": "code",
   "execution_count": 5,
   "metadata": {},
   "outputs": [],
   "source": [
    "# unfreeze params post warm-up.  Can be used with any model.\n",
    "from pytorch_lightning.callbacks import Callback\n",
    "class UnFreezeCallback(Callback): \n",
    "    def on_epoch_end(self, trainer, pl_module):\n",
    "        if trainer.current_epoch == 10:\n",
    "            pl_module.embeddings.unfreeze()"
   ]
  },
  {
   "cell_type": "code",
   "execution_count": 6,
   "metadata": {},
   "outputs": [],
   "source": [
    "# model\n",
    "#load simCLR pre-trained on imagenet\n",
    "import torch.optim as optim\n",
    "import torch.nn.functional as F\n",
    "import torch.nn as nn\n",
    "from pl_bolts.models import LinearRegression, LogisticRegression\n",
    "import torchvision.models as models\n",
    "import wandb\n",
    "\n",
    "class OCTModel(pl.LightningModule):\n",
    "    def __init__(self, hparams):\n",
    "        super().__init__()\n",
    "        hparams = Namespace(**hparams) if isinstance(hparams, dict) else hparams\n",
    "        self.hparams = hparams\n",
    "        \n",
    "        base_model = SimCLR.load_from_checkpoint(hparams.embeddings_path, strict=False)\n",
    "        \n",
    "        # Set our learning rate\n",
    "        self.learning_rate = hparams.learning_rate   \n",
    "        self.tune = hparams.tune\n",
    "\n",
    "        num_target_classes = hparams.n_classes\n",
    "        self.embeddings = base_model\n",
    "        \n",
    "        #freeze\n",
    "        if hparams.freeze_base:\n",
    "            self.embeddings.eval()  \n",
    "\n",
    "        # Use the pretrained simclr model representations to classify oct. \n",
    "#         self.classifier = nn.Linear(self.embeddings.encoder.fc.in_features, num_target_classes)\n",
    "        self.classifier = nn.Sequential(\n",
    "            nn.Linear(self.embeddings.encoder.fc.in_features, \n",
    "                      self.embeddings.encoder.fc.in_features),\n",
    "            nn.ReLU(),\n",
    "            nn.Linear(self.embeddings.encoder.fc.in_features, \n",
    "                      num_target_classes if num_target_classes > 2 else 1),\n",
    "        )\n",
    "        \n",
    "        # Create loss function\n",
    "        self.loss_fn = torch.nn.CrossEntropyLoss()\n",
    "    \n",
    "    def configure_optimizers(self):\n",
    "        optimizer = torch.optim.Adam(self.parameters(), lr=self.learning_rate)\n",
    "        return optimizer\n",
    "    \n",
    "    def forward(self, input_data):\n",
    "        # input = input_data[0].unsqueeze(0)\n",
    "        # input = input.view(64, 3, 244,244)\n",
    "        representations = self.embeddings(input_data)\n",
    "        preds = self.classifier(representations)\n",
    "        # preds = self.classifier(representations[0])\n",
    "        return preds\n",
    "    \n",
    "    def training_step(self, train_batch, batch_idx):\n",
    "        x, y = train_batch\n",
    "        predictions = self.forward(x)\n",
    "        loss = self.loss_fn(predictions, y)\n",
    "\n",
    "        if not self.tune:\n",
    "            self.logger.experiment.log({\"train_input_image\":[wandb.Image(train_batch[0][0].cpu(), \n",
    "                                                                         caption=\"train_input_image\")]},\n",
    "                                       commit=False)\n",
    "        self.log('train_loss', loss)\n",
    "        return loss\n",
    "    \n",
    "    def validation_step(self, val_batch, batch_idx):\n",
    "        x, y = val_batch\n",
    "        predictions = self.forward(x)\n",
    "        loss = self.loss_fn(predictions, y)\n",
    "\n",
    "        if not self.tune:\n",
    "            self.logger.experiment.log({\"val_input_image\":[wandb.Image(val_batch[0][0].cpu(), \n",
    "                                                                       caption=\"val_input_image\")]},\n",
    "                                       commit=False)\n",
    "        self.log('val_loss', loss)"
   ]
  },
  {
   "cell_type": "markdown",
   "metadata": {},
   "source": [
    "### Finding best Learning rate parameter for initialization"
   ]
  },
  {
   "cell_type": "code",
   "execution_count": 7,
   "metadata": {},
   "outputs": [
    {
     "name": "stderr",
     "output_type": "stream",
     "text": [
      "GPU available: True, used: True\n",
      "TPU available: None, using: 0 TPU cores\n",
      "LOCAL_RANK: 0 - CUDA_VISIBLE_DEVICES: [0]\n",
      "\n",
      "  | Name       | Type             | Params\n",
      "------------------------------------------------\n",
      "0 | embeddings | SimCLR           | 30.0 M\n",
      "1 | classifier | Sequential       | 4.2 M \n",
      "2 | loss_fn    | CrossEntropyLoss | 0     \n",
      "------------------------------------------------\n",
      "34.2 M    Trainable params\n",
      "0         Non-trainable params\n",
      "34.2 M    Total params\n",
      "136.897   Total estimated model params size (MB)\n"
     ]
    },
    {
     "data": {
      "application/vnd.jupyter.widget-view+json": {
       "model_id": "df7b7c0e0fb04827ac79433e3f251ebf",
       "version_major": 2,
       "version_minor": 0
      },
      "text/plain": [
       "HBox(children=(HTML(value='Finding best initial lr'), FloatProgress(value=0.0), HTML(value='')))"
      ]
     },
     "metadata": {},
     "output_type": "display_data"
    },
    {
     "name": "stderr",
     "output_type": "stream",
     "text": [
      "Restored states from the checkpoint file at /home/student/Documents/DS/PML/Pretrained Method/lr_find_temp_model.ckpt\n"
     ]
    }
   ],
   "source": [
    "from argparse import Namespace\n",
    "\n",
    "weight_path = 'https://pl-bolts-weights.s3.us-east-2.amazonaws.com/simclr/bolts_simclr_imagenet/simclr_imagenet.ckpt'\n",
    "hparams = Namespace(\n",
    "    learning_rate=1e-3,\n",
    "    freeze_base=True,\n",
    "    tune=False,\n",
    "    epochs=50,\n",
    "    n_classes=4,\n",
    "    embeddings_path=weight_path\n",
    ")\n",
    "\n",
    "#init model\n",
    "model = OCTModel(hparams)\n",
    "\n",
    "#tune\n",
    "trainer = pl.Trainer(gpus=1)\n",
    "lr_finder = trainer.tuner.lr_find(model,datamodule=oct_data)"
   ]
  },
  {
   "cell_type": "code",
   "execution_count": 8,
   "metadata": {},
   "outputs": [
    {
     "name": "stdout",
     "output_type": "stream",
     "text": [
      "0.001584893192461114\n"
     ]
    },
    {
     "data": {
      "image/png": "[encoded data removed]",
      "text/plain": [
       "<Figure size 432x288 with 1 Axes>"
      ]
     },
     "metadata": {
      "needs_background": "light"
     },
     "output_type": "display_data"
    }
   ],
   "source": [
    "# Inspect results\n",
    "lr_finder.plot(show=False, suggest=True)\n",
    "suggested_lr = lr_finder.suggestion()\n",
    "print(suggested_lr)"
   ]
  },
  {
   "cell_type": "markdown",
   "metadata": {},
   "source": [
    "### Running Classifier model with best initialization parameters"
   ]
  },
  {
   "cell_type": "code",
   "execution_count": 9,
   "metadata": {},
   "outputs": [],
   "source": [
    "# Overwrite lr and create new model\n",
    "weight_path = 'https://pl-bolts-weights.s3.us-east-2.amazonaws.com/simclr/bolts_simclr_imagenet/simclr_imagenet.ckpt'\n",
    "hparams = Namespace(\n",
    "    learning_rate=suggested_lr,\n",
    "    freeze_base=True,\n",
    "    tune=False,\n",
    "    max_epochs=15,\n",
    "    n_classes=4,\n",
    "    embeddings_path=weight_path\n",
    ")\n",
    "\n",
    "model_tuned = OCTModel(hparams)"
   ]
  },
  {
   "cell_type": "code",
   "execution_count": 14,
   "metadata": {},
   "outputs": [
    {
     "name": "stderr",
     "output_type": "stream",
     "text": [
      "\u001b[34m\u001b[1mwandb\u001b[0m: Currently logged in as: \u001b[33mdsaenzpe\u001b[0m (use `wandb login --relogin` to force relogin)\n",
      "\u001b[34m\u001b[1mwandb\u001b[0m: wandb version 0.10.21 is available!  To upgrade, please run:\n",
      "\u001b[34m\u001b[1mwandb\u001b[0m:  $ pip install wandb --upgrade\n"
     ]
    },
    {
     "data": {
      "text/html": [
       "\n",
       "                Tracking run with wandb version 0.10.19<br/>\n",
       "                Resuming run <strong style=\"color:#cdcd00\">OCT_exp_complex_classifier_60.0train_03_20210304</strong> to <a href=\"https://wandb.ai\" target=\"_blank\">Weights & Biases</a> <a href=\"https://docs.wandb.com/integrations/jupyter.html\" target=\"_blank\">(Documentation)</a>.<br/>\n",
       "                Project page: <a href=\"https://wandb.ai/dsaenzpe/simCLR-ml701\" target=\"_blank\">https://wandb.ai/dsaenzpe/simCLR-ml701</a><br/>\n",
       "                Run page: <a href=\"https://wandb.ai/dsaenzpe/simCLR-ml701/runs/complex_classifier_03_20210304\" target=\"_blank\">https://wandb.ai/dsaenzpe/simCLR-ml701/runs/complex_classifier_03_20210304</a><br/>\n",
       "                Run data is saved locally in <code>/home/student/Documents/DS/PML/Pretrained Method/wandb/run-20210304_161723-complex_classifier_03_20210304</code><br/><br/>\n",
       "            "
      ],
      "text/plain": [
       "<IPython.core.display.HTML object>"
      ]
     },
     "metadata": {},
     "output_type": "display_data"
    },
    {
     "name": "stderr",
     "output_type": "stream",
     "text": [
      "GPU available: True, used: True\n",
      "TPU available: None, using: 0 TPU cores\n",
      "LOCAL_RANK: 0 - CUDA_VISIBLE_DEVICES: [0]\n",
      "\n",
      "  | Name       | Type             | Params\n",
      "------------------------------------------------\n",
      "0 | embeddings | SimCLR           | 30.0 M\n",
      "1 | classifier | Sequential       | 4.2 M \n",
      "2 | loss_fn    | CrossEntropyLoss | 0     \n",
      "------------------------------------------------\n",
      "34.2 M    Trainable params\n",
      "0         Non-trainable params\n",
      "34.2 M    Total params\n",
      "136.897   Total estimated model params size (MB)\n"
     ]
    },
    {
     "data": {
      "application/vnd.jupyter.widget-view+json": {
       "model_id": "baef06ad03ef46dabd8b426c542c0fc5",
       "version_major": 2,
       "version_minor": 0
      },
      "text/plain": [
       "HBox(children=(HTML(value='Validation sanity check'), FloatProgress(value=1.0, bar_style='info', layout=Layout…"
      ]
     },
     "metadata": {},
     "output_type": "display_data"
    },
    {
     "data": {
      "application/vnd.jupyter.widget-view+json": {
       "model_id": "ea5dae490bcf4b728c85d8f372e7b498",
       "version_major": 2,
       "version_minor": 0
      },
      "text/plain": [
       "HBox(children=(HTML(value='Training'), FloatProgress(value=1.0, bar_style='info', layout=Layout(flex='2'), max…"
      ]
     },
     "metadata": {},
     "output_type": "display_data"
    },
    {
     "data": {
      "application/vnd.jupyter.widget-view+json": {
       "model_id": "",
       "version_major": 2,
       "version_minor": 0
      },
      "text/plain": [
       "HBox(children=(HTML(value='Validating'), FloatProgress(value=1.0, bar_style='info', layout=Layout(flex='2'), m…"
      ]
     },
     "metadata": {},
     "output_type": "display_data"
    },
    {
     "data": {
      "application/vnd.jupyter.widget-view+json": {
       "model_id": "",
       "version_major": 2,
       "version_minor": 0
      },
      "text/plain": [
       "HBox(children=(HTML(value='Validating'), FloatProgress(value=1.0, bar_style='info', layout=Layout(flex='2'), m…"
      ]
     },
     "metadata": {},
     "output_type": "display_data"
    },
    {
     "data": {
      "application/vnd.jupyter.widget-view+json": {
       "model_id": "",
       "version_major": 2,
       "version_minor": 0
      },
      "text/plain": [
       "HBox(children=(HTML(value='Validating'), FloatProgress(value=1.0, bar_style='info', layout=Layout(flex='2'), m…"
      ]
     },
     "metadata": {},
     "output_type": "display_data"
    },
    {
     "data": {
      "application/vnd.jupyter.widget-view+json": {
       "model_id": "",
       "version_major": 2,
       "version_minor": 0
      },
      "text/plain": [
       "HBox(children=(HTML(value='Validating'), FloatProgress(value=1.0, bar_style='info', layout=Layout(flex='2'), m…"
      ]
     },
     "metadata": {},
     "output_type": "display_data"
    },
    {
     "data": {
      "application/vnd.jupyter.widget-view+json": {
       "model_id": "",
       "version_major": 2,
       "version_minor": 0
      },
      "text/plain": [
       "HBox(children=(HTML(value='Validating'), FloatProgress(value=1.0, bar_style='info', layout=Layout(flex='2'), m…"
      ]
     },
     "metadata": {},
     "output_type": "display_data"
    },
    {
     "data": {
      "application/vnd.jupyter.widget-view+json": {
       "model_id": "",
       "version_major": 2,
       "version_minor": 0
      },
      "text/plain": [
       "HBox(children=(HTML(value='Validating'), FloatProgress(value=1.0, bar_style='info', layout=Layout(flex='2'), m…"
      ]
     },
     "metadata": {},
     "output_type": "display_data"
    },
    {
     "data": {
      "application/vnd.jupyter.widget-view+json": {
       "model_id": "",
       "version_major": 2,
       "version_minor": 0
      },
      "text/plain": [
       "HBox(children=(HTML(value='Validating'), FloatProgress(value=1.0, bar_style='info', layout=Layout(flex='2'), m…"
      ]
     },
     "metadata": {},
     "output_type": "display_data"
    },
    {
     "data": {
      "application/vnd.jupyter.widget-view+json": {
       "model_id": "",
       "version_major": 2,
       "version_minor": 0
      },
      "text/plain": [
       "HBox(children=(HTML(value='Validating'), FloatProgress(value=1.0, bar_style='info', layout=Layout(flex='2'), m…"
      ]
     },
     "metadata": {},
     "output_type": "display_data"
    },
    {
     "data": {
      "application/vnd.jupyter.widget-view+json": {
       "model_id": "",
       "version_major": 2,
       "version_minor": 0
      },
      "text/plain": [
       "HBox(children=(HTML(value='Validating'), FloatProgress(value=1.0, bar_style='info', layout=Layout(flex='2'), m…"
      ]
     },
     "metadata": {},
     "output_type": "display_data"
    },
    {
     "data": {
      "application/vnd.jupyter.widget-view+json": {
       "model_id": "",
       "version_major": 2,
       "version_minor": 0
      },
      "text/plain": [
       "HBox(children=(HTML(value='Validating'), FloatProgress(value=1.0, bar_style='info', layout=Layout(flex='2'), m…"
      ]
     },
     "metadata": {},
     "output_type": "display_data"
    },
    {
     "data": {
      "application/vnd.jupyter.widget-view+json": {
       "model_id": "",
       "version_major": 2,
       "version_minor": 0
      },
      "text/plain": [
       "HBox(children=(HTML(value='Validating'), FloatProgress(value=1.0, bar_style='info', layout=Layout(flex='2'), m…"
      ]
     },
     "metadata": {},
     "output_type": "display_data"
    },
    {
     "data": {
      "application/vnd.jupyter.widget-view+json": {
       "model_id": "",
       "version_major": 2,
       "version_minor": 0
      },
      "text/plain": [
       "HBox(children=(HTML(value='Validating'), FloatProgress(value=1.0, bar_style='info', layout=Layout(flex='2'), m…"
      ]
     },
     "metadata": {},
     "output_type": "display_data"
    },
    {
     "data": {
      "application/vnd.jupyter.widget-view+json": {
       "model_id": "",
       "version_major": 2,
       "version_minor": 0
      },
      "text/plain": [
       "HBox(children=(HTML(value='Validating'), FloatProgress(value=1.0, bar_style='info', layout=Layout(flex='2'), m…"
      ]
     },
     "metadata": {},
     "output_type": "display_data"
    },
    {
     "data": {
      "application/vnd.jupyter.widget-view+json": {
       "model_id": "",
       "version_major": 2,
       "version_minor": 0
      },
      "text/plain": [
       "HBox(children=(HTML(value='Validating'), FloatProgress(value=1.0, bar_style='info', layout=Layout(flex='2'), m…"
      ]
     },
     "metadata": {},
     "output_type": "display_data"
    },
    {
     "data": {
      "application/vnd.jupyter.widget-view+json": {
       "model_id": "",
       "version_major": 2,
       "version_minor": 0
      },
      "text/plain": [
       "HBox(children=(HTML(value='Validating'), FloatProgress(value=1.0, bar_style='info', layout=Layout(flex='2'), m…"
      ]
     },
     "metadata": {},
     "output_type": "display_data"
    },
    {
     "name": "stderr",
     "output_type": "stream",
     "text": [
      "\u001b[34m\u001b[1mwandb\u001b[0m: \u001b[33mWARNING\u001b[0m Saving files without folders. If you want to preserve sub directories pass base_path to wandb.save, i.e. wandb.save(\"/mnt/folder/file.h5\", base_path=\"/mnt\")\n",
      "\u001b[34m\u001b[1mwandb\u001b[0m: \u001b[33mWARNING\u001b[0m Symlinked 0 file into the W&B run directory, call wandb.save again to sync new files.\n"
     ]
    },
    {
     "name": "stdout",
     "output_type": "stream",
     "text": [
      "\n"
     ]
    },
    {
     "data": {
      "text/plain": [
       "<wandb.sdk.wandb_artifacts.Artifact at 0x7fba781ef7c0>"
      ]
     },
     "execution_count": 14,
     "metadata": {},
     "output_type": "execute_result"
    }
   ],
   "source": [
    "from datetime import datetime\n",
    "\n",
    "#init logger\n",
    "experiment_num=\"03\"\n",
    "date=datetime.today().strftime('%Y%m%d')\n",
    "experiment_name=f\"OCT_exp_complex_classifier_{in(frac_train_images * 100)}train_{experiment_num}_{date}\" \n",
    "experiment_id=f\"complex_classifier_{experiment_num}_{date}\"\n",
    "project_name=\"simCLR-ml701\"\n",
    "\n",
    "wandb_logger = WandbLogger(name=experiment_name,\n",
    "                           project=project_name, \n",
    "                           id=experiment_id, log_model=True)\n",
    "wandb_logger.watch(model_tuned, log=\"all\", log_freq=50)\n",
    "\n",
    "#cp\n",
    "checkpoint_callback=pl.callbacks.ModelCheckpoint(\n",
    "    dirpath=experiment_name + '_ckp',\n",
    "    monitor='val_loss',\n",
    "    filename='{epoch}-{train_loss:.2f}-{val_loss:.2f}'    \n",
    ")\n",
    "\n",
    "# fit\n",
    "trainer = pl.Trainer(max_epochs=hparams.max_epochs,\n",
    "                     progress_bar_refresh_rate=20,\n",
    "                     gpus=1,\n",
    "                     logger=wandb_logger,\n",
    "                     callbacks=[checkpoint_callback, UnFreezeCallback()])\n",
    "trainer.fit(model_tuned, datamodule=oct_data)\n",
    "\n",
    "\n",
    "\n",
    "#save checkpoint with weights\n",
    "checkpoint_file=experiment_name + \"_pretrained.ckpt\"\n",
    "trainer.save_checkpoint(checkpoint_file)\n",
    "#save to W&B\n",
    "trainer.logger.experiment.log_artifact(checkpoint_file, type=\"model\")"
   ]
  },
  {
   "cell_type": "code",
   "execution_count": 16,
   "metadata": {},
   "outputs": [
    {
     "data": {
      "text/html": [
       "<br/>Waiting for W&B process to finish, PID 27296<br/>Program ended successfully."
      ],
      "text/plain": [
       "<IPython.core.display.HTML object>"
      ]
     },
     "metadata": {},
     "output_type": "display_data"
    },
    {
     "data": {
      "application/vnd.jupyter.widget-view+json": {
       "model_id": "",
       "version_major": 2,
       "version_minor": 0
      },
      "text/plain": [
       "VBox(children=(Label(value=' 164.90MB of 345.45MB uploaded (0.00MB deduped)\\r'), FloatProgress(value=0.4773416…"
      ]
     },
     "metadata": {},
     "output_type": "display_data"
    },
    {
     "data": {
      "text/html": [
       "Find user logs for this run at: <code>/home/student/Documents/DS/PML/Pretrained Method/wandb/run-20210304_161723-complex_classifier_03_20210304/logs/debug.log</code>"
      ],
      "text/plain": [
       "<IPython.core.display.HTML object>"
      ]
     },
     "metadata": {},
     "output_type": "display_data"
    },
    {
     "data": {
      "text/html": [
       "Find internal logs for this run at: <code>/home/student/Documents/DS/PML/Pretrained Method/wandb/run-20210304_161723-complex_classifier_03_20210304/logs/debug-internal.log</code>"
      ],
      "text/plain": [
       "<IPython.core.display.HTML object>"
      ]
     },
     "metadata": {},
     "output_type": "display_data"
    },
    {
     "data": {
      "text/html": [
       "<h3>Run summary:</h3><br/><style>\n",
       "    table.wandb td:nth-child(1) { padding: 0 10px; text-align: right }\n",
       "    </style><table class=\"wandb\">\n",
       "<tr><td>train_loss</td><td>0.05317</td></tr><tr><td>_timestamp</td><td>1614860572</td></tr><tr><td>_step</td><td>1049</td></tr><tr><td>val_loss</td><td>0.17868</td></tr><tr><td>epoch</td><td>14</td></tr><tr><td>_runtime</td><td>672</td></tr></table>"
      ],
      "text/plain": [
       "<IPython.core.display.HTML object>"
      ]
     },
     "metadata": {},
     "output_type": "display_data"
    },
    {
     "data": {
      "text/html": [
       "<h3>Run history:</h3><br/><style>\n",
       "    table.wandb td:nth-child(1) { padding: 0 10px; text-align: right }\n",
       "    </style><table class=\"wandb\">\n",
       "<tr><td>_runtime</td><td>▁▁▁▂▂▂▃▃▃▃▄▄▄▄▅▅▆▆▆▆▆▇▇▇█</td></tr><tr><td>_timestamp</td><td>▁▁▁▂▂▂▃▃▃▃▄▄▄▄▅▅▆▆▆▆▆▇▇▇█</td></tr><tr><td>_step</td><td>▁▁▂▂▂▂▃▃▃▄▄▄▄▅▅▅▆▆▆▇▇▇███</td></tr><tr><td>val_loss</td><td>▄▅▃▁▁▂▁▃▂█▂▂▂▂▁</td></tr><tr><td>epoch</td><td>▁▁▁▂▂▃▃▃▃▃▄▅▅▅▅▅▆▇▇▇▇▇██</td></tr><tr><td>train_loss</td><td>█▂▁▃▁▁▁▁▁▃</td></tr></table><br/>"
      ],
      "text/plain": [
       "<IPython.core.display.HTML object>"
      ]
     },
     "metadata": {},
     "output_type": "display_data"
    },
    {
     "data": {
      "text/html": [
       "Synced 5 W&B file(s), 39 media file(s), 1 artifact file(s) and 0 other file(s)"
      ],
      "text/plain": [
       "<IPython.core.display.HTML object>"
      ]
     },
     "metadata": {},
     "output_type": "display_data"
    },
    {
     "data": {
      "text/html": [
       "\n",
       "                    <br/>Synced <strong style=\"color:#cdcd00\">OCT_exp_complex_classifier_60.0train_03_20210304</strong>: <a href=\"https://wandb.ai/dsaenzpe/simCLR-ml701/runs/complex_classifier_03_20210304\" target=\"_blank\">https://wandb.ai/dsaenzpe/simCLR-ml701/runs/complex_classifier_03_20210304</a><br/>\n",
       "                "
      ],
      "text/plain": [
       "<IPython.core.display.HTML object>"
      ]
     },
     "metadata": {},
     "output_type": "display_data"
    }
   ],
   "source": [
    "# end run on W&B + sync results\n",
    "# import wandb\n",
    "wandb.finish()\n",
    "# wandb_logger.finalize('success')"
   ]
  },
  {
   "cell_type": "markdown",
   "metadata": {},
   "source": [
    "## Evaluation"
   ]
  },
  {
   "cell_type": "code",
   "execution_count": 28,
   "metadata": {},
   "outputs": [],
   "source": [
    "from sklearn.metrics import classification_report\n",
    "\n",
    "def evaluate(data_loader,module):\n",
    "    with torch.no_grad():\n",
    "        print('start')\n",
    "        module.eval() \n",
    "        print('eval')\n",
    "        progress = [\"/\", \"-\", \"\\\\\", \"|\", \"/\", \"-\", \"\\\\\", \"|\"]\n",
    "        true_y, pred_y = [], []\n",
    "        print('ready')\n",
    "        for i, _batch in enumerate(data_loader):\n",
    "            print('iteration')\n",
    "            print(progress[i % len(progress)], end=\"\\r\")\n",
    "            x, y = _batch    \n",
    "            y_pred = torch.argmax(module(x), dim=1)\n",
    "            true_y.extend(y)\n",
    "            pred_y.extend(y_pred)\n",
    "        print('report')\n",
    "        print(classification_report(true_y, pred_y, digits=3))\n",
    "        print('return')\n",
    "        return true_y, pred_y"
   ]
  },
  {
   "cell_type": "code",
   "execution_count": 29,
   "metadata": {},
   "outputs": [
    {
     "name": "stdout",
     "output_type": "stream",
     "text": [
      "start\n",
      "eval\n",
      "ready\n",
      "iteration\n",
      "iteration\n",
      "iteration\n",
      "iteration\n",
      "iteration\n",
      "iteration\n",
      "iteration\n",
      "iteration\n",
      "iteration\n",
      "iteration\n",
      "iteration\n",
      "iteration\n",
      "iteration\n",
      "iteration\n",
      "iteration\n",
      "iteration\n",
      "report\n",
      "              precision    recall  f1-score   support\n",
      "\n",
      "           0      1.000     0.992     0.996       250\n",
      "           1      0.996     0.920     0.956       250\n",
      "           2      0.936     1.000     0.967       250\n",
      "           3      0.976     0.992     0.984       250\n",
      "\n",
      "    accuracy                          0.976      1000\n",
      "   macro avg      0.977     0.976     0.976      1000\n",
      "weighted avg      0.977     0.976     0.976      1000\n",
      "\n",
      "return\n"
     ]
    }
   ],
   "source": [
    "# Evaluate predictions on test data\n",
    "ds_test = oct_data.test_dataloader()\n",
    "\n",
    "_ = evaluate(ds_test, model_tuned)"
   ]
  },
  {
   "cell_type": "code",
   "execution_count": null,
   "metadata": {},
   "outputs": [],
   "source": []
  },
  {
   "cell_type": "code",
   "execution_count": null,
   "metadata": {},
   "outputs": [],
   "source": []
  },
  {
   "cell_type": "code",
   "execution_count": null,
   "metadata": {},
   "outputs": [],
   "source": []
  },
  {
   "cell_type": "code",
   "execution_count": null,
   "metadata": {},
   "outputs": [],
   "source": []
  },
  {
   "cell_type": "code",
   "execution_count": null,
   "metadata": {},
   "outputs": [],
   "source": []
  }
 ],
 "metadata": {
  "kernelspec": {
   "display_name": "Python 3",
   "language": "python",
   "name": "python3"
  },
  "language_info": {
   "codemirror_mode": {
    "name": "ipython",
    "version": 3
   },
   "file_extension": ".py",
   "mimetype": "text/x-python",
   "name": "python",
   "nbconvert_exporter": "python",
   "pygments_lexer": "ipython3",
   "version": "3.8.5"
  }
 },
 "nbformat": 4,
 "nbformat_minor": 4
}
